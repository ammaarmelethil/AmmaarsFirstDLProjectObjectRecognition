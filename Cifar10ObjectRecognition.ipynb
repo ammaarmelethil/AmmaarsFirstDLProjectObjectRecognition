{
 "cells": [
  {
   "cell_type": "code",
   "execution_count": 1,
   "id": "initial_id",
   "metadata": {
    "collapsed": true,
    "ExecuteTime": {
     "end_time": "2023-12-23T23:53:59.088127Z",
     "start_time": "2023-12-23T23:53:55.647280Z"
    }
   },
   "outputs": [
    {
     "name": "stdout",
     "output_type": "stream",
     "text": [
      "Collecting kaggle\r\n",
      "  Downloading kaggle-1.5.16.tar.gz (83 kB)\r\n",
      "\u001B[2K     \u001B[90m━━━━━━━━━━━━━━━━━━━━━━━━━━━━━━━━━━━━━━━\u001B[0m \u001B[32m83.6/83.6 kB\u001B[0m \u001B[31m960.1 kB/s\u001B[0m eta \u001B[36m0:00:00\u001B[0m0:01\u001B[0m00:01\u001B[0m\r\n",
      "\u001B[?25h  Preparing metadata (setup.py) ... \u001B[?25ldone\r\n",
      "\u001B[?25hRequirement already satisfied: six>=1.10 in /Users/ammaar/opt/anaconda3/envs/AmmaarsFirstDLProjectObjectRecognition/lib/python3.8/site-packages (from kaggle) (1.16.0)\r\n",
      "Requirement already satisfied: certifi in /Users/ammaar/opt/anaconda3/envs/AmmaarsFirstDLProjectObjectRecognition/lib/python3.8/site-packages (from kaggle) (2023.11.17)\r\n",
      "Requirement already satisfied: python-dateutil in /Users/ammaar/opt/anaconda3/envs/AmmaarsFirstDLProjectObjectRecognition/lib/python3.8/site-packages (from kaggle) (2.8.2)\r\n",
      "Requirement already satisfied: requests in /Users/ammaar/opt/anaconda3/envs/AmmaarsFirstDLProjectObjectRecognition/lib/python3.8/site-packages (from kaggle) (2.31.0)\r\n",
      "Collecting tqdm (from kaggle)\r\n",
      "  Downloading tqdm-4.66.1-py3-none-any.whl.metadata (57 kB)\r\n",
      "\u001B[2K     \u001B[90m━━━━━━━━━━━━━━━━━━━━━━━━━━━━━━━━━━━━━━━━\u001B[0m \u001B[32m57.6/57.6 kB\u001B[0m \u001B[31m3.0 MB/s\u001B[0m eta \u001B[36m0:00:00\u001B[0m\r\n",
      "\u001B[?25hCollecting python-slugify (from kaggle)\r\n",
      "  Downloading python_slugify-8.0.1-py2.py3-none-any.whl (9.7 kB)\r\n",
      "Requirement already satisfied: urllib3 in /Users/ammaar/opt/anaconda3/envs/AmmaarsFirstDLProjectObjectRecognition/lib/python3.8/site-packages (from kaggle) (1.26.18)\r\n",
      "Requirement already satisfied: bleach in /Users/ammaar/opt/anaconda3/envs/AmmaarsFirstDLProjectObjectRecognition/lib/python3.8/site-packages (from kaggle) (4.1.0)\r\n",
      "Requirement already satisfied: packaging in /Users/ammaar/opt/anaconda3/envs/AmmaarsFirstDLProjectObjectRecognition/lib/python3.8/site-packages (from bleach->kaggle) (23.1)\r\n",
      "Requirement already satisfied: webencodings in /Users/ammaar/opt/anaconda3/envs/AmmaarsFirstDLProjectObjectRecognition/lib/python3.8/site-packages (from bleach->kaggle) (0.5.1)\r\n",
      "Collecting text-unidecode>=1.3 (from python-slugify->kaggle)\r\n",
      "  Downloading text_unidecode-1.3-py2.py3-none-any.whl (78 kB)\r\n",
      "\u001B[2K     \u001B[90m━━━━━━━━━━━━━━━━━━━━━━━━━━━━━━━━━━━━━━━━\u001B[0m \u001B[32m78.2/78.2 kB\u001B[0m \u001B[31m3.9 MB/s\u001B[0m eta \u001B[36m0:00:00\u001B[0m\r\n",
      "\u001B[?25hRequirement already satisfied: charset-normalizer<4,>=2 in /Users/ammaar/opt/anaconda3/envs/AmmaarsFirstDLProjectObjectRecognition/lib/python3.8/site-packages (from requests->kaggle) (2.0.4)\r\n",
      "Requirement already satisfied: idna<4,>=2.5 in /Users/ammaar/opt/anaconda3/envs/AmmaarsFirstDLProjectObjectRecognition/lib/python3.8/site-packages (from requests->kaggle) (3.4)\r\n",
      "Downloading tqdm-4.66.1-py3-none-any.whl (78 kB)\r\n",
      "\u001B[2K   \u001B[90m━━━━━━━━━━━━━━━━━━━━━━━━━━━━━━━━━━━━━━━━\u001B[0m \u001B[32m78.3/78.3 kB\u001B[0m \u001B[31m4.6 MB/s\u001B[0m eta \u001B[36m0:00:00\u001B[0m\r\n",
      "\u001B[?25hBuilding wheels for collected packages: kaggle\r\n",
      "  Building wheel for kaggle (setup.py) ... \u001B[?25ldone\r\n",
      "\u001B[?25h  Created wheel for kaggle: filename=kaggle-1.5.16-py3-none-any.whl size=110683 sha256=03fece51d1a528b5d3d6c2089f3d64b88e5fb3e9c9fdc400a52ec5f9e5c8efe5\r\n",
      "  Stored in directory: /Users/ammaar/Library/Caches/pip/wheels/5a/ab/50/e224f599a07faf6d398a8600796012da271b7e5e7f2a3ab2b8\r\n",
      "Successfully built kaggle\r\n",
      "Installing collected packages: text-unidecode, tqdm, python-slugify, kaggle\r\n",
      "Successfully installed kaggle-1.5.16 python-slugify-8.0.1 text-unidecode-1.3 tqdm-4.66.1\r\n"
     ]
    }
   ],
   "source": [
    "!pip install kaggle"
   ]
  },
  {
   "cell_type": "code",
   "execution_count": 2,
   "outputs": [],
   "source": [
    "# Configuring the path of Kaggle.json file\n",
    "!mkdir -p ~/.kaggle\n",
    "!cp kaggle.json ~/.kaggle/\n",
    "!chmod 600 ~/.kaggle/kaggle.json"
   ],
   "metadata": {
    "collapsed": false,
    "ExecuteTime": {
     "end_time": "2023-12-23T23:55:03.973585Z",
     "start_time": "2023-12-23T23:55:02.900597Z"
    }
   },
   "id": "1f20ab66b2bbde9c"
  },
  {
   "cell_type": "code",
   "execution_count": 4,
   "outputs": [
    {
     "name": "stdout",
     "output_type": "stream",
     "text": [
      "cifar-10.zip: Skipping, found more recently modified local copy (use --force to force download)\r\n"
     ]
    }
   ],
   "source": [
    "# CIFAR-10 Dataset api\n",
    "!kaggle competitions download -c cifar-10"
   ],
   "metadata": {
    "collapsed": false,
    "ExecuteTime": {
     "end_time": "2023-12-23T23:57:15.886605Z",
     "start_time": "2023-12-23T23:57:13.668442Z"
    }
   },
   "id": "2672a9b0411e14a8"
  },
  {
   "cell_type": "code",
   "execution_count": 6,
   "outputs": [
    {
     "name": "stdout",
     "output_type": "stream",
     "text": [
      "Extraction complete\n"
     ]
    }
   ],
   "source": [
    "# Extracting from the zip file\n",
    "from zipfile import ZipFile\n",
    "dataset = 'cifar-10.zip'\n",
    "\n",
    "with ZipFile(dataset, 'r') as zip:\n",
    "    zip.extractall()\n",
    "    print('Extraction complete')"
   ],
   "metadata": {
    "collapsed": false,
    "ExecuteTime": {
     "end_time": "2023-12-24T00:05:24.071743Z",
     "start_time": "2023-12-24T00:05:22.943715Z"
    }
   },
   "id": "32c85bc0af68989c"
  },
  {
   "cell_type": "code",
   "execution_count": 7,
   "outputs": [
    {
     "name": "stdout",
     "output_type": "stream",
     "text": [
      "Cifar10ObjectRecognition.ipynb test.7z\r\n",
      "cifar-10.zip                   train.7z\r\n",
      "kaggle.json                    trainLabels.csv\r\n",
      "sampleSubmission.csv\r\n"
     ]
    }
   ],
   "source": [
    "!ls"
   ],
   "metadata": {
    "collapsed": false,
    "ExecuteTime": {
     "end_time": "2023-12-24T00:05:45.629581Z",
     "start_time": "2023-12-24T00:05:44.825457Z"
    }
   },
   "id": "60a2aa2cd75ab9ac"
  },
  {
   "cell_type": "markdown",
   "source": [
    "We want the images in 'train.7z', we extract using py7zr"
   ],
   "metadata": {
    "collapsed": false
   },
   "id": "102555ca459bfdf9"
  },
  {
   "cell_type": "code",
   "execution_count": 8,
   "outputs": [
    {
     "name": "stdout",
     "output_type": "stream",
     "text": [
      "Collecting py7zr\r\n",
      "  Downloading py7zr-0.20.8-py3-none-any.whl.metadata (16 kB)\r\n",
      "Collecting texttable (from py7zr)\r\n",
      "  Downloading texttable-1.7.0-py2.py3-none-any.whl.metadata (9.8 kB)\r\n",
      "Collecting pycryptodomex>=3.16.0 (from py7zr)\r\n",
      "  Downloading pycryptodomex-3.19.0-cp35-abi3-macosx_10_9_x86_64.whl.metadata (3.4 kB)\r\n",
      "Collecting pyzstd>=0.15.9 (from py7zr)\r\n",
      "  Downloading pyzstd-0.15.9-cp38-cp38-macosx_10_9_x86_64.whl.metadata (7.5 kB)\r\n",
      "Collecting pyppmd<1.2.0,>=1.1.0 (from py7zr)\r\n",
      "  Downloading pyppmd-1.1.0-cp38-cp38-macosx_10_9_x86_64.whl.metadata (5.7 kB)\r\n",
      "Collecting pybcj<1.1.0,>=1.0.0 (from py7zr)\r\n",
      "  Downloading pybcj-1.0.2-cp38-cp38-macosx_10_9_x86_64.whl.metadata (4.0 kB)\r\n",
      "Collecting multivolumefile>=0.2.3 (from py7zr)\r\n",
      "  Downloading multivolumefile-0.2.3-py3-none-any.whl (17 kB)\r\n",
      "Collecting inflate64<1.1.0,>=1.0.0 (from py7zr)\r\n",
      "  Downloading inflate64-1.0.0-cp38-cp38-macosx_10_9_x86_64.whl.metadata (4.0 kB)\r\n",
      "Collecting brotli>=1.1.0 (from py7zr)\r\n",
      "  Downloading Brotli-1.1.0-cp38-cp38-macosx_10_9_x86_64.whl.metadata (5.5 kB)\r\n",
      "Requirement already satisfied: psutil in /Users/ammaar/opt/anaconda3/envs/AmmaarsFirstDLProjectObjectRecognition/lib/python3.8/site-packages (from py7zr) (5.9.0)\r\n",
      "Downloading py7zr-0.20.8-py3-none-any.whl (67 kB)\r\n",
      "\u001B[2K   \u001B[90m━━━━━━━━━━━━━━━━━━━━━━━━━━━━━━━━━━━━━━━━\u001B[0m \u001B[32m67.0/67.0 kB\u001B[0m \u001B[31m1.0 MB/s\u001B[0m eta \u001B[36m0:00:00\u001B[0ma \u001B[36m0:00:01\u001B[0m\r\n",
      "\u001B[?25hDownloading Brotli-1.1.0-cp38-cp38-macosx_10_9_x86_64.whl (446 kB)\r\n",
      "\u001B[2K   \u001B[90m━━━━━━━━━━━━━━━━━━━━━━━━━━━━━━━━━━━━━━━━\u001B[0m \u001B[32m446.2/446.2 kB\u001B[0m \u001B[31m3.5 MB/s\u001B[0m eta \u001B[36m0:00:00\u001B[0ma \u001B[36m0:00:01\u001B[0m\r\n",
      "\u001B[?25hDownloading inflate64-1.0.0-cp38-cp38-macosx_10_9_x86_64.whl (36 kB)\r\n",
      "Downloading pybcj-1.0.2-cp38-cp38-macosx_10_9_x86_64.whl (23 kB)\r\n",
      "Downloading pycryptodomex-3.19.0-cp35-abi3-macosx_10_9_x86_64.whl (1.6 MB)\r\n",
      "\u001B[2K   \u001B[90m━━━━━━━━━━━━━━━━━━━━━━━━━━━━━━━━━━━━━━━━\u001B[0m \u001B[32m1.6/1.6 MB\u001B[0m \u001B[31m13.0 MB/s\u001B[0m eta \u001B[36m0:00:00\u001B[0m00:01\u001B[0m00:01\u001B[0m\r\n",
      "\u001B[?25hDownloading pyppmd-1.1.0-cp38-cp38-macosx_10_9_x86_64.whl (47 kB)\r\n",
      "\u001B[2K   \u001B[90m━━━━━━━━━━━━━━━━━━━━━━━━━━━━━━━━━━━━━━━━\u001B[0m \u001B[32m47.4/47.4 kB\u001B[0m \u001B[31m4.8 MB/s\u001B[0m eta \u001B[36m0:00:00\u001B[0m\r\n",
      "\u001B[?25hDownloading pyzstd-0.15.9-cp38-cp38-macosx_10_9_x86_64.whl (447 kB)\r\n",
      "\u001B[2K   \u001B[90m━━━━━━━━━━━━━━━━━━━━━━━━━━━━━━━━━━━━━━━━\u001B[0m \u001B[32m447.6/447.6 kB\u001B[0m \u001B[31m30.1 MB/s\u001B[0m eta \u001B[36m0:00:00\u001B[0m\r\n",
      "\u001B[?25hDownloading texttable-1.7.0-py2.py3-none-any.whl (10 kB)\r\n",
      "Installing collected packages: texttable, brotli, pyzstd, pyppmd, pycryptodomex, pybcj, multivolumefile, inflate64, py7zr\r\n",
      "  Attempting uninstall: brotli\r\n",
      "    Found existing installation: Brotli 1.0.9\r\n",
      "    Uninstalling Brotli-1.0.9:\r\n",
      "      Successfully uninstalled Brotli-1.0.9\r\n",
      "Successfully installed brotli-1.1.0 inflate64-1.0.0 multivolumefile-0.2.3 py7zr-0.20.8 pybcj-1.0.2 pycryptodomex-3.19.0 pyppmd-1.1.0 pyzstd-0.15.9 texttable-1.7.0\r\n"
     ]
    }
   ],
   "source": [
    "!pip install py7zr"
   ],
   "metadata": {
    "collapsed": false,
    "ExecuteTime": {
     "end_time": "2023-12-24T00:07:09.765543Z",
     "start_time": "2023-12-24T00:07:04.303127Z"
    }
   },
   "id": "448d61d3d3dfd542"
  },
  {
   "cell_type": "code",
   "execution_count": 9,
   "outputs": [],
   "source": [
    "import py7zr\n",
    "archive = py7zr.SevenZipFile('train.7z', mode='r')\n",
    "archive.extractall()\n",
    "archive.close()"
   ],
   "metadata": {
    "collapsed": false,
    "ExecuteTime": {
     "end_time": "2023-12-24T00:08:26.133788Z",
     "start_time": "2023-12-24T00:07:46.164473Z"
    }
   },
   "id": "7377f91389e47874"
  },
  {
   "cell_type": "code",
   "execution_count": 10,
   "outputs": [
    {
     "name": "stdout",
     "output_type": "stream",
     "text": [
      "Cifar10ObjectRecognition.ipynb test.7z\r\n",
      "cifar-10.zip                   \u001B[34mtrain\u001B[m\u001B[m\r\n",
      "kaggle.json                    train.7z\r\n",
      "sampleSubmission.csv           trainLabels.csv\r\n"
     ]
    }
   ],
   "source": [
    "!ls"
   ],
   "metadata": {
    "collapsed": false,
    "ExecuteTime": {
     "end_time": "2023-12-24T00:08:44.762860Z",
     "start_time": "2023-12-24T00:08:44.468386Z"
    }
   },
   "id": "633c778c21e134b1"
  },
  {
   "cell_type": "markdown",
   "source": [
    "Now that the images are extracted, we can build a basic neural network"
   ],
   "metadata": {
    "collapsed": false
   },
   "id": "91ff82d79f9ace11"
  },
  {
   "cell_type": "code",
   "execution_count": 12,
   "outputs": [],
   "source": [
    "# Importing the dependencies\n",
    "import os\n",
    "import numpy as np\n",
    "import pandas as pd\n",
    "from PIL import Image\n",
    "import matplotlib.pyplot as plt\n",
    "import matplotlib.image as mpimg\n",
    "from sklearn.model_selection import train_test_split"
   ],
   "metadata": {
    "collapsed": false,
    "ExecuteTime": {
     "end_time": "2023-12-24T00:11:36.248952Z",
     "start_time": "2023-12-24T00:11:23.747746Z"
    }
   },
   "id": "9d97b0bd040200ea"
  },
  {
   "cell_type": "code",
   "execution_count": 14,
   "outputs": [],
   "source": [
    "filenames = os.listdir('train')"
   ],
   "metadata": {
    "collapsed": false,
    "ExecuteTime": {
     "end_time": "2023-12-24T00:17:11.702955Z",
     "start_time": "2023-12-24T00:17:11.661111Z"
    }
   },
   "id": "6edbf46d0348a4ef"
  },
  {
   "cell_type": "markdown",
   "source": [
    "Labels Processing"
   ],
   "metadata": {
    "collapsed": false
   },
   "id": "81e0135da909f6d8"
  },
  {
   "cell_type": "code",
   "execution_count": 17,
   "outputs": [],
   "source": [
    "labels_df = pd.read_csv('trainLabels.csv')"
   ],
   "metadata": {
    "collapsed": false,
    "ExecuteTime": {
     "end_time": "2023-12-24T01:50:12.373042Z",
     "start_time": "2023-12-24T01:50:12.318706Z"
    }
   },
   "id": "63bc010e3efc53b9"
  },
  {
   "cell_type": "code",
   "execution_count": 20,
   "outputs": [
    {
     "data": {
      "text/plain": "   id       label\n0   1        frog\n1   2       truck\n2   3       truck\n3   4        deer\n4   5  automobile\n5   6  automobile\n6   7        bird\n7   8       horse\n8   9        ship\n9  10         cat",
      "text/html": "<div>\n<style scoped>\n    .dataframe tbody tr th:only-of-type {\n        vertical-align: middle;\n    }\n\n    .dataframe tbody tr th {\n        vertical-align: top;\n    }\n\n    .dataframe thead th {\n        text-align: right;\n    }\n</style>\n<table border=\"1\" class=\"dataframe\">\n  <thead>\n    <tr style=\"text-align: right;\">\n      <th></th>\n      <th>id</th>\n      <th>label</th>\n    </tr>\n  </thead>\n  <tbody>\n    <tr>\n      <th>0</th>\n      <td>1</td>\n      <td>frog</td>\n    </tr>\n    <tr>\n      <th>1</th>\n      <td>2</td>\n      <td>truck</td>\n    </tr>\n    <tr>\n      <th>2</th>\n      <td>3</td>\n      <td>truck</td>\n    </tr>\n    <tr>\n      <th>3</th>\n      <td>4</td>\n      <td>deer</td>\n    </tr>\n    <tr>\n      <th>4</th>\n      <td>5</td>\n      <td>automobile</td>\n    </tr>\n    <tr>\n      <th>5</th>\n      <td>6</td>\n      <td>automobile</td>\n    </tr>\n    <tr>\n      <th>6</th>\n      <td>7</td>\n      <td>bird</td>\n    </tr>\n    <tr>\n      <th>7</th>\n      <td>8</td>\n      <td>horse</td>\n    </tr>\n    <tr>\n      <th>8</th>\n      <td>9</td>\n      <td>ship</td>\n    </tr>\n    <tr>\n      <th>9</th>\n      <td>10</td>\n      <td>cat</td>\n    </tr>\n  </tbody>\n</table>\n</div>"
     },
     "execution_count": 20,
     "metadata": {},
     "output_type": "execute_result"
    }
   ],
   "source": [
    "# Checking if the data is sorted (id in ascending order), I am looking at the first 10 elements\n",
    "labels_df.head(10)"
   ],
   "metadata": {
    "collapsed": false,
    "ExecuteTime": {
     "end_time": "2023-12-24T01:55:26.641013Z",
     "start_time": "2023-12-24T01:55:26.634683Z"
    }
   },
   "id": "f0e78cf19860686c"
  },
  {
   "cell_type": "code",
   "execution_count": 21,
   "outputs": [
    {
     "data": {
      "text/plain": "          id       label\n49990  49991        deer\n49991  49992        bird\n49992  49993    airplane\n49993  49994  automobile\n49994  49995    airplane\n49995  49996        bird\n49996  49997        frog\n49997  49998       truck\n49998  49999  automobile\n49999  50000  automobile",
      "text/html": "<div>\n<style scoped>\n    .dataframe tbody tr th:only-of-type {\n        vertical-align: middle;\n    }\n\n    .dataframe tbody tr th {\n        vertical-align: top;\n    }\n\n    .dataframe thead th {\n        text-align: right;\n    }\n</style>\n<table border=\"1\" class=\"dataframe\">\n  <thead>\n    <tr style=\"text-align: right;\">\n      <th></th>\n      <th>id</th>\n      <th>label</th>\n    </tr>\n  </thead>\n  <tbody>\n    <tr>\n      <th>49990</th>\n      <td>49991</td>\n      <td>deer</td>\n    </tr>\n    <tr>\n      <th>49991</th>\n      <td>49992</td>\n      <td>bird</td>\n    </tr>\n    <tr>\n      <th>49992</th>\n      <td>49993</td>\n      <td>airplane</td>\n    </tr>\n    <tr>\n      <th>49993</th>\n      <td>49994</td>\n      <td>automobile</td>\n    </tr>\n    <tr>\n      <th>49994</th>\n      <td>49995</td>\n      <td>airplane</td>\n    </tr>\n    <tr>\n      <th>49995</th>\n      <td>49996</td>\n      <td>bird</td>\n    </tr>\n    <tr>\n      <th>49996</th>\n      <td>49997</td>\n      <td>frog</td>\n    </tr>\n    <tr>\n      <th>49997</th>\n      <td>49998</td>\n      <td>truck</td>\n    </tr>\n    <tr>\n      <th>49998</th>\n      <td>49999</td>\n      <td>automobile</td>\n    </tr>\n    <tr>\n      <th>49999</th>\n      <td>50000</td>\n      <td>automobile</td>\n    </tr>\n  </tbody>\n</table>\n</div>"
     },
     "execution_count": 21,
     "metadata": {},
     "output_type": "execute_result"
    }
   ],
   "source": [
    "# Now, if the last 10 elements are in order\n",
    "labels_df.tail(10)"
   ],
   "metadata": {
    "collapsed": false,
    "ExecuteTime": {
     "end_time": "2023-12-24T01:55:50.145668Z",
     "start_time": "2023-12-24T01:55:50.140258Z"
    }
   },
   "id": "de6e1002b473d7be"
  },
  {
   "cell_type": "code",
   "execution_count": 22,
   "outputs": [
    {
     "data": {
      "text/plain": "label\nfrog          5000\ntruck         5000\ndeer          5000\nautomobile    5000\nbird          5000\nhorse         5000\nship          5000\ncat           5000\ndog           5000\nairplane      5000\nName: count, dtype: int64"
     },
     "execution_count": 22,
     "metadata": {},
     "output_type": "execute_result"
    }
   ],
   "source": [
    "# Checking if distribution is even to ensure model can make significant predictions\n",
    "labels_df['label'].value_counts()"
   ],
   "metadata": {
    "collapsed": false,
    "ExecuteTime": {
     "end_time": "2023-12-24T01:58:48.995441Z",
     "start_time": "2023-12-24T01:58:48.973174Z"
    }
   },
   "id": "605719f40c47a1ea"
  },
  {
   "cell_type": "code",
   "execution_count": 24,
   "outputs": [],
   "source": [
    "# Numerically encoding the labels\n",
    "labels_dictionary = {'airplane': 0, 'automobile': 1, 'bird': 2, 'cat': 3, 'deer': 4, 'dog': 5, 'frog': 6, 'horse': 7, 'ship': 8, 'truck': 9}\n",
    "labels = [labels_dictionary[i] for i in labels_df['label']]"
   ],
   "metadata": {
    "collapsed": false,
    "ExecuteTime": {
     "end_time": "2023-12-24T02:10:57.039756Z",
     "start_time": "2023-12-24T02:10:57.036383Z"
    }
   },
   "id": "6fe026398cc21343"
  },
  {
   "cell_type": "code",
   "execution_count": 25,
   "outputs": [
    {
     "name": "stdout",
     "output_type": "stream",
     "text": [
      "[6, 9, 9, 4, 1]\n",
      "[2, 6, 9, 1, 1]\n"
     ]
    }
   ],
   "source": [
    "# Double-checking if encoding was performed correctly\n",
    "print(labels[0:5])\n",
    "print(labels[-5:])"
   ],
   "metadata": {
    "collapsed": false,
    "ExecuteTime": {
     "end_time": "2023-12-24T02:10:58.962162Z",
     "start_time": "2023-12-24T02:10:58.943455Z"
    }
   },
   "id": "14b9189d5042b3de"
  },
  {
   "cell_type": "code",
   "execution_count": 34,
   "outputs": [
    {
     "data": {
      "text/plain": "<Figure size 640x480 with 1 Axes>",
      "image/png": "[encoded data removed]"
     },
     "metadata": {},
     "output_type": "display_data"
    }
   ],
   "source": [
    "# Taking a look at a sample image\n",
    "sample_image = Image.open('train/1.png') # Should be a frog\n",
    "plt.imshow(sample_image)\n",
    "plt.axis('off')  # Turn off axis numbers\n",
    "plt.show()"
   ],
   "metadata": {
    "collapsed": false,
    "ExecuteTime": {
     "end_time": "2023-12-24T02:25:58.464539Z",
     "start_time": "2023-12-24T02:25:58.408461Z"
    }
   },
   "id": "e875df3087387ab4"
  },
  {
   "cell_type": "code",
   "execution_count": null,
   "outputs": [],
   "source": [
    "id_list = list(labels_df['id'])"
   ],
   "metadata": {
    "collapsed": false
   },
   "id": "870af4931bd69ec9"
  },
  {
   "cell_type": "markdown",
   "source": [
    "Image Processing"
   ],
   "metadata": {
    "collapsed": false
   },
   "id": "cb9af6c6c240531a"
  },
  {
   "cell_type": "code",
   "execution_count": null,
   "outputs": [],
   "source": [
    "# conv"
   ],
   "metadata": {
    "collapsed": false
   },
   "id": "941de3ce3ce8581c"
  }
 ],
 "metadata": {
  "kernelspec": {
   "display_name": "Python 3",
   "language": "python",
   "name": "python3"
  },
  "language_info": {
   "codemirror_mode": {
    "name": "ipython",
    "version": 2
   },
   "file_extension": ".py",
   "mimetype": "text/x-python",
   "name": "python",
   "nbconvert_exporter": "python",
   "pygments_lexer": "ipython2",
   "version": "2.7.6"
  }
 },
 "nbformat": 4,
 "nbformat_minor": 5
}
