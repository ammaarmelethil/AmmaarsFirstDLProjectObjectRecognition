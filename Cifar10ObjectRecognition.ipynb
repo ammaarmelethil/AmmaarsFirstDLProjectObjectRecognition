{
 "cells": [
  {
   "cell_type": "markdown",
   "source": [
    "This script was written by Ammaar Melethil starting on 2023-12-23"
   ],
   "metadata": {
    "collapsed": false
   },
   "id": "84c90743e7afc598"
  },
  {
   "cell_type": "code",
   "execution_count": 1,
   "outputs": [
    {
     "name": "stdout",
     "output_type": "stream",
     "text": [
      "Requirement already satisfied: kaggle in /Users/ammaar/opt/anaconda3/envs/AmmaarsFirstDLProjectObjectRecognition/lib/python3.8/site-packages (1.5.16)\r\n",
      "Requirement already satisfied: six>=1.10 in /Users/ammaar/opt/anaconda3/envs/AmmaarsFirstDLProjectObjectRecognition/lib/python3.8/site-packages (from kaggle) (1.16.0)\r\n",
      "Requirement already satisfied: certifi in /Users/ammaar/opt/anaconda3/envs/AmmaarsFirstDLProjectObjectRecognition/lib/python3.8/site-packages (from kaggle) (2023.11.17)\r\n",
      "Requirement already satisfied: python-dateutil in /Users/ammaar/opt/anaconda3/envs/AmmaarsFirstDLProjectObjectRecognition/lib/python3.8/site-packages (from kaggle) (2.8.2)\r\n",
      "Requirement already satisfied: requests in /Users/ammaar/opt/anaconda3/envs/AmmaarsFirstDLProjectObjectRecognition/lib/python3.8/site-packages (from kaggle) (2.31.0)\r\n",
      "Requirement already satisfied: tqdm in /Users/ammaar/opt/anaconda3/envs/AmmaarsFirstDLProjectObjectRecognition/lib/python3.8/site-packages (from kaggle) (4.66.1)\r\n",
      "Requirement already satisfied: python-slugify in /Users/ammaar/opt/anaconda3/envs/AmmaarsFirstDLProjectObjectRecognition/lib/python3.8/site-packages (from kaggle) (8.0.1)\r\n",
      "Requirement already satisfied: urllib3 in /Users/ammaar/opt/anaconda3/envs/AmmaarsFirstDLProjectObjectRecognition/lib/python3.8/site-packages (from kaggle) (1.26.18)\r\n",
      "Requirement already satisfied: bleach in /Users/ammaar/opt/anaconda3/envs/AmmaarsFirstDLProjectObjectRecognition/lib/python3.8/site-packages (from kaggle) (4.1.0)\r\n",
      "Requirement already satisfied: packaging in /Users/ammaar/opt/anaconda3/envs/AmmaarsFirstDLProjectObjectRecognition/lib/python3.8/site-packages (from bleach->kaggle) (23.1)\r\n",
      "Requirement already satisfied: webencodings in /Users/ammaar/opt/anaconda3/envs/AmmaarsFirstDLProjectObjectRecognition/lib/python3.8/site-packages (from bleach->kaggle) (0.5.1)\r\n",
      "Requirement already satisfied: text-unidecode>=1.3 in /Users/ammaar/opt/anaconda3/envs/AmmaarsFirstDLProjectObjectRecognition/lib/python3.8/site-packages (from python-slugify->kaggle) (1.3)\r\n",
      "Requirement already satisfied: charset-normalizer<4,>=2 in /Users/ammaar/opt/anaconda3/envs/AmmaarsFirstDLProjectObjectRecognition/lib/python3.8/site-packages (from requests->kaggle) (2.0.4)\r\n",
      "Requirement already satisfied: idna<4,>=2.5 in /Users/ammaar/opt/anaconda3/envs/AmmaarsFirstDLProjectObjectRecognition/lib/python3.8/site-packages (from requests->kaggle) (3.4)\r\n"
     ]
    }
   ],
   "source": [
    "!pip install kaggle"
   ],
   "metadata": {
    "collapsed": true,
    "ExecuteTime": {
     "end_time": "2023-12-27T21:25:34.699653Z",
     "start_time": "2023-12-27T21:25:33.420874Z"
    }
   },
   "id": "initial_id"
  },
  {
   "cell_type": "code",
   "execution_count": 2,
   "outputs": [],
   "source": [
    "# Configuring the path of Kaggle.json file\n",
    "!mkdir -p ~/.kaggle\n",
    "!cp kaggle.json ~/.kaggle/\n",
    "!chmod 600 ~/.kaggle/kaggle.json"
   ],
   "metadata": {
    "collapsed": false,
    "ExecuteTime": {
     "end_time": "2023-12-27T21:25:35.107761Z",
     "start_time": "2023-12-27T21:25:34.702142Z"
    }
   },
   "id": "1f20ab66b2bbde9c"
  },
  {
   "cell_type": "code",
   "execution_count": 3,
   "outputs": [
    {
     "name": "stdout",
     "output_type": "stream",
     "text": [
      "cifar-10.zip: Skipping, found more recently modified local copy (use --force to force download)\r\n"
     ]
    }
   ],
   "source": [
    "# CIFAR-10 Dataset api\n",
    "!kaggle competitions download -c cifar-10"
   ],
   "metadata": {
    "collapsed": false,
    "ExecuteTime": {
     "end_time": "2023-12-27T21:25:36.634056Z",
     "start_time": "2023-12-27T21:25:35.108832Z"
    }
   },
   "id": "2672a9b0411e14a8"
  },
  {
   "cell_type": "code",
   "execution_count": 4,
   "outputs": [
    {
     "name": "stdout",
     "output_type": "stream",
     "text": [
      "Extraction complete\n"
     ]
    }
   ],
   "source": [
    "# Extracting from the zip file\n",
    "from zipfile import ZipFile\n",
    "dataset = 'cifar-10.zip'\n",
    "\n",
    "with ZipFile(dataset, 'r') as zip:\n",
    "    zip.extractall()\n",
    "    print('Extraction complete')"
   ],
   "metadata": {
    "collapsed": false,
    "ExecuteTime": {
     "end_time": "2023-12-27T21:25:37.711526Z",
     "start_time": "2023-12-27T21:25:36.635639Z"
    }
   },
   "id": "32c85bc0af68989c"
  },
  {
   "cell_type": "code",
   "execution_count": 5,
   "outputs": [
    {
     "name": "stdout",
     "output_type": "stream",
     "text": [
      "Cifar10ObjectRecognition.ipynb test.7z\r\n",
      "README.md                      \u001B[34mtrain\u001B[m\u001B[m\r\n",
      "cifar-10.zip                   train.7z\r\n",
      "kaggle.json                    trainLabels.csv\r\n",
      "sampleSubmission.csv\r\n"
     ]
    }
   ],
   "source": [
    "!ls"
   ],
   "metadata": {
    "collapsed": false,
    "ExecuteTime": {
     "end_time": "2023-12-27T21:25:37.870445Z",
     "start_time": "2023-12-27T21:25:37.713367Z"
    }
   },
   "id": "60a2aa2cd75ab9ac"
  },
  {
   "cell_type": "markdown",
   "source": [
    "We want the images in 'train.7z', we extract using py7zr"
   ],
   "metadata": {
    "collapsed": false
   },
   "id": "102555ca459bfdf9"
  },
  {
   "cell_type": "code",
   "execution_count": 6,
   "outputs": [
    {
     "name": "stdout",
     "output_type": "stream",
     "text": [
      "Requirement already satisfied: py7zr in /Users/ammaar/opt/anaconda3/envs/AmmaarsFirstDLProjectObjectRecognition/lib/python3.8/site-packages (0.20.8)\r\n",
      "Requirement already satisfied: texttable in /Users/ammaar/opt/anaconda3/envs/AmmaarsFirstDLProjectObjectRecognition/lib/python3.8/site-packages (from py7zr) (1.7.0)\r\n",
      "Requirement already satisfied: pycryptodomex>=3.16.0 in /Users/ammaar/opt/anaconda3/envs/AmmaarsFirstDLProjectObjectRecognition/lib/python3.8/site-packages (from py7zr) (3.19.0)\r\n",
      "Requirement already satisfied: pyzstd>=0.15.9 in /Users/ammaar/opt/anaconda3/envs/AmmaarsFirstDLProjectObjectRecognition/lib/python3.8/site-packages (from py7zr) (0.15.9)\r\n",
      "Requirement already satisfied: pyppmd<1.2.0,>=1.1.0 in /Users/ammaar/opt/anaconda3/envs/AmmaarsFirstDLProjectObjectRecognition/lib/python3.8/site-packages (from py7zr) (1.1.0)\r\n",
      "Requirement already satisfied: pybcj<1.1.0,>=1.0.0 in /Users/ammaar/opt/anaconda3/envs/AmmaarsFirstDLProjectObjectRecognition/lib/python3.8/site-packages (from py7zr) (1.0.2)\r\n",
      "Requirement already satisfied: multivolumefile>=0.2.3 in /Users/ammaar/opt/anaconda3/envs/AmmaarsFirstDLProjectObjectRecognition/lib/python3.8/site-packages (from py7zr) (0.2.3)\r\n",
      "Requirement already satisfied: inflate64<1.1.0,>=1.0.0 in /Users/ammaar/opt/anaconda3/envs/AmmaarsFirstDLProjectObjectRecognition/lib/python3.8/site-packages (from py7zr) (1.0.0)\r\n",
      "Collecting brotli>=1.1.0 (from py7zr)\r\n",
      "  Using cached Brotli-1.1.0-cp38-cp38-macosx_10_9_x86_64.whl.metadata (5.5 kB)\r\n",
      "Requirement already satisfied: psutil in /Users/ammaar/opt/anaconda3/envs/AmmaarsFirstDLProjectObjectRecognition/lib/python3.8/site-packages (from py7zr) (5.9.0)\r\n",
      "Using cached Brotli-1.1.0-cp38-cp38-macosx_10_9_x86_64.whl (446 kB)\r\n",
      "Installing collected packages: brotli\r\n",
      "  Attempting uninstall: brotli\r\n",
      "    Found existing installation: Brotli 1.0.9\r\n",
      "    Uninstalling Brotli-1.0.9:\r\n",
      "      Successfully uninstalled Brotli-1.0.9\r\n",
      "Successfully installed brotli-1.1.0\r\n"
     ]
    }
   ],
   "source": [
    "!pip install py7zr"
   ],
   "metadata": {
    "collapsed": false,
    "ExecuteTime": {
     "end_time": "2023-12-27T21:25:39.951640Z",
     "start_time": "2023-12-27T21:25:37.871727Z"
    }
   },
   "id": "448d61d3d3dfd542"
  },
  {
   "cell_type": "code",
   "execution_count": 7,
   "outputs": [],
   "source": [
    "import py7zr\n",
    "archive = py7zr.SevenZipFile('train.7z', mode='r')\n",
    "archive.extractall()\n",
    "archive.close()"
   ],
   "metadata": {
    "collapsed": false,
    "ExecuteTime": {
     "end_time": "2023-12-27T21:26:22.472129Z",
     "start_time": "2023-12-27T21:25:39.953028Z"
    }
   },
   "id": "7377f91389e47874"
  },
  {
   "cell_type": "code",
   "execution_count": 8,
   "outputs": [
    {
     "name": "stdout",
     "output_type": "stream",
     "text": [
      "Cifar10ObjectRecognition.ipynb test.7z\r\n",
      "README.md                      \u001B[34mtrain\u001B[m\u001B[m\r\n",
      "cifar-10.zip                   train.7z\r\n",
      "kaggle.json                    trainLabels.csv\r\n",
      "sampleSubmission.csv\r\n"
     ]
    }
   ],
   "source": [
    "!ls"
   ],
   "metadata": {
    "collapsed": false,
    "ExecuteTime": {
     "end_time": "2023-12-27T21:26:22.649957Z",
     "start_time": "2023-12-27T21:26:22.471946Z"
    }
   },
   "id": "633c778c21e134b1"
  },
  {
   "cell_type": "markdown",
   "source": [
    "Now that the images are extracted, we can begin processing the data"
   ],
   "metadata": {
    "collapsed": false
   },
   "id": "91ff82d79f9ace11"
  },
  {
   "cell_type": "code",
   "execution_count": 9,
   "outputs": [],
   "source": [
    "# Importing the dependencies\n",
    "import os\n",
    "import numpy as np\n",
    "import pandas as pd\n",
    "from PIL import Image\n",
    "import matplotlib.pyplot as plt\n",
    "import matplotlib.image as mpimg\n",
    "from sklearn.model_selection import train_test_split"
   ],
   "metadata": {
    "collapsed": false,
    "ExecuteTime": {
     "end_time": "2023-12-27T21:26:25.144391Z",
     "start_time": "2023-12-27T21:26:22.652922Z"
    }
   },
   "id": "9d97b0bd040200ea"
  },
  {
   "cell_type": "code",
   "execution_count": 10,
   "outputs": [],
   "source": [
    "filenames = os.listdir('train')"
   ],
   "metadata": {
    "collapsed": false,
    "ExecuteTime": {
     "end_time": "2023-12-27T21:26:25.179014Z",
     "start_time": "2023-12-27T21:26:25.145167Z"
    }
   },
   "id": "6edbf46d0348a4ef"
  },
  {
   "cell_type": "markdown",
   "source": [
    "Labels Processing"
   ],
   "metadata": {
    "collapsed": false
   },
   "id": "81e0135da909f6d8"
  },
  {
   "cell_type": "code",
   "execution_count": 11,
   "outputs": [],
   "source": [
    "labels_df = pd.read_csv('trainLabels.csv')"
   ],
   "metadata": {
    "collapsed": false,
    "ExecuteTime": {
     "end_time": "2023-12-27T21:26:25.203577Z",
     "start_time": "2023-12-27T21:26:25.181282Z"
    }
   },
   "id": "63bc010e3efc53b9"
  },
  {
   "cell_type": "code",
   "execution_count": 12,
   "outputs": [
    {
     "data": {
      "text/plain": "   id       label\n0   1        frog\n1   2       truck\n2   3       truck\n3   4        deer\n4   5  automobile\n5   6  automobile\n6   7        bird\n7   8       horse\n8   9        ship\n9  10         cat",
      "text/html": "<div>\n<style scoped>\n    .dataframe tbody tr th:only-of-type {\n        vertical-align: middle;\n    }\n\n    .dataframe tbody tr th {\n        vertical-align: top;\n    }\n\n    .dataframe thead th {\n        text-align: right;\n    }\n</style>\n<table border=\"1\" class=\"dataframe\">\n  <thead>\n    <tr style=\"text-align: right;\">\n      <th></th>\n      <th>id</th>\n      <th>label</th>\n    </tr>\n  </thead>\n  <tbody>\n    <tr>\n      <th>0</th>\n      <td>1</td>\n      <td>frog</td>\n    </tr>\n    <tr>\n      <th>1</th>\n      <td>2</td>\n      <td>truck</td>\n    </tr>\n    <tr>\n      <th>2</th>\n      <td>3</td>\n      <td>truck</td>\n    </tr>\n    <tr>\n      <th>3</th>\n      <td>4</td>\n      <td>deer</td>\n    </tr>\n    <tr>\n      <th>4</th>\n      <td>5</td>\n      <td>automobile</td>\n    </tr>\n    <tr>\n      <th>5</th>\n      <td>6</td>\n      <td>automobile</td>\n    </tr>\n    <tr>\n      <th>6</th>\n      <td>7</td>\n      <td>bird</td>\n    </tr>\n    <tr>\n      <th>7</th>\n      <td>8</td>\n      <td>horse</td>\n    </tr>\n    <tr>\n      <th>8</th>\n      <td>9</td>\n      <td>ship</td>\n    </tr>\n    <tr>\n      <th>9</th>\n      <td>10</td>\n      <td>cat</td>\n    </tr>\n  </tbody>\n</table>\n</div>"
     },
     "execution_count": 12,
     "metadata": {},
     "output_type": "execute_result"
    }
   ],
   "source": [
    "# Checking if the data is sorted (id in ascending order), I am looking at the first 10 elements\n",
    "labels_df.head(10)"
   ],
   "metadata": {
    "collapsed": false,
    "ExecuteTime": {
     "end_time": "2023-12-27T21:26:25.245588Z",
     "start_time": "2023-12-27T21:26:25.201754Z"
    }
   },
   "id": "f0e78cf19860686c"
  },
  {
   "cell_type": "code",
   "execution_count": 13,
   "outputs": [
    {
     "data": {
      "text/plain": "          id       label\n49990  49991        deer\n49991  49992        bird\n49992  49993    airplane\n49993  49994  automobile\n49994  49995    airplane\n49995  49996        bird\n49996  49997        frog\n49997  49998       truck\n49998  49999  automobile\n49999  50000  automobile",
      "text/html": "<div>\n<style scoped>\n    .dataframe tbody tr th:only-of-type {\n        vertical-align: middle;\n    }\n\n    .dataframe tbody tr th {\n        vertical-align: top;\n    }\n\n    .dataframe thead th {\n        text-align: right;\n    }\n</style>\n<table border=\"1\" class=\"dataframe\">\n  <thead>\n    <tr style=\"text-align: right;\">\n      <th></th>\n      <th>id</th>\n      <th>label</th>\n    </tr>\n  </thead>\n  <tbody>\n    <tr>\n      <th>49990</th>\n      <td>49991</td>\n      <td>deer</td>\n    </tr>\n    <tr>\n      <th>49991</th>\n      <td>49992</td>\n      <td>bird</td>\n    </tr>\n    <tr>\n      <th>49992</th>\n      <td>49993</td>\n      <td>airplane</td>\n    </tr>\n    <tr>\n      <th>49993</th>\n      <td>49994</td>\n      <td>automobile</td>\n    </tr>\n    <tr>\n      <th>49994</th>\n      <td>49995</td>\n      <td>airplane</td>\n    </tr>\n    <tr>\n      <th>49995</th>\n      <td>49996</td>\n      <td>bird</td>\n    </tr>\n    <tr>\n      <th>49996</th>\n      <td>49997</td>\n      <td>frog</td>\n    </tr>\n    <tr>\n      <th>49997</th>\n      <td>49998</td>\n      <td>truck</td>\n    </tr>\n    <tr>\n      <th>49998</th>\n      <td>49999</td>\n      <td>automobile</td>\n    </tr>\n    <tr>\n      <th>49999</th>\n      <td>50000</td>\n      <td>automobile</td>\n    </tr>\n  </tbody>\n</table>\n</div>"
     },
     "execution_count": 13,
     "metadata": {},
     "output_type": "execute_result"
    }
   ],
   "source": [
    "# Now, if the last 10 elements are in order\n",
    "labels_df.tail(10)"
   ],
   "metadata": {
    "collapsed": false,
    "ExecuteTime": {
     "end_time": "2023-12-27T21:26:25.248693Z",
     "start_time": "2023-12-27T21:26:25.209590Z"
    }
   },
   "id": "de6e1002b473d7be"
  },
  {
   "cell_type": "code",
   "execution_count": 14,
   "outputs": [
    {
     "data": {
      "text/plain": "label\nfrog          5000\ntruck         5000\ndeer          5000\nautomobile    5000\nbird          5000\nhorse         5000\nship          5000\ncat           5000\ndog           5000\nairplane      5000\nName: count, dtype: int64"
     },
     "execution_count": 14,
     "metadata": {},
     "output_type": "execute_result"
    }
   ],
   "source": [
    "# Checking if distribution is even to ensure model can make significant predictions\n",
    "labels_df['label'].value_counts()"
   ],
   "metadata": {
    "collapsed": false,
    "ExecuteTime": {
     "end_time": "2023-12-27T21:26:25.251111Z",
     "start_time": "2023-12-27T21:26:25.225281Z"
    }
   },
   "id": "605719f40c47a1ea"
  },
  {
   "cell_type": "code",
   "execution_count": 15,
   "outputs": [],
   "source": [
    "# Numerically encoding the labels\n",
    "labels_dictionary = {'airplane': 0, 'automobile': 1, 'bird': 2, 'cat': 3, 'deer': 4, 'dog': 5, 'frog': 6, 'horse': 7, 'ship': 8, 'truck': 9}\n",
    "labels = [labels_dictionary[i] for i in labels_df['label']]"
   ],
   "metadata": {
    "collapsed": false,
    "ExecuteTime": {
     "end_time": "2023-12-27T21:26:25.276611Z",
     "start_time": "2023-12-27T21:26:25.236860Z"
    }
   },
   "id": "6fe026398cc21343"
  },
  {
   "cell_type": "code",
   "execution_count": 16,
   "outputs": [
    {
     "name": "stdout",
     "output_type": "stream",
     "text": [
      "[6, 9, 9, 4, 1]\n",
      "[2, 6, 9, 1, 1]\n"
     ]
    }
   ],
   "source": [
    "# Double-checking if encoding was performed correctly\n",
    "print(labels[0:5])\n",
    "print(labels[-5:])"
   ],
   "metadata": {
    "collapsed": false,
    "ExecuteTime": {
     "end_time": "2023-12-27T21:26:25.278653Z",
     "start_time": "2023-12-27T21:26:25.242710Z"
    }
   },
   "id": "14b9189d5042b3de"
  },
  {
   "cell_type": "code",
   "execution_count": 17,
   "outputs": [
    {
     "data": {
      "text/plain": "<Figure size 640x480 with 1 Axes>",
      "image/png": "[encoded data removed]"
     },
     "metadata": {},
     "output_type": "display_data"
    }
   ],
   "source": [
    "# Taking a look at a sample image\n",
    "sample_image = Image.open('train/1.png') # Should be a frog\n",
    "plt.imshow(sample_image)\n",
    "plt.axis('off')  # Turn off axis numbers\n",
    "plt.show()"
   ],
   "metadata": {
    "collapsed": false,
    "ExecuteTime": {
     "end_time": "2023-12-27T21:26:25.568130Z",
     "start_time": "2023-12-27T21:26:25.249159Z"
    }
   },
   "id": "e875df3087387ab4"
  },
  {
   "cell_type": "code",
   "execution_count": 18,
   "outputs": [],
   "source": [
    "id_list = list(labels_df['id'])"
   ],
   "metadata": {
    "collapsed": false,
    "ExecuteTime": {
     "end_time": "2023-12-27T21:26:25.569351Z",
     "start_time": "2023-12-27T21:26:25.306659Z"
    }
   },
   "id": "870af4931bd69ec9"
  },
  {
   "cell_type": "markdown",
   "source": [
    "Image Processing"
   ],
   "metadata": {
    "collapsed": false
   },
   "id": "cb9af6c6c240531a"
  },
  {
   "cell_type": "code",
   "execution_count": 19,
   "outputs": [],
   "source": [
    "# Converting images to numpy arrays\n",
    "train_data_folder = 'train/'\n",
    "data = []\n",
    "\n",
    "for id in id_list:\n",
    "    image = Image.open(train_data_folder + str(id) + '.png')\n",
    "    image = np.array(image)\n",
    "    data.append(image)"
   ],
   "metadata": {
    "collapsed": false,
    "ExecuteTime": {
     "end_time": "2023-12-27T21:26:34.555550Z",
     "start_time": "2023-12-27T21:26:25.315425Z"
    }
   },
   "id": "941de3ce3ce8581c"
  },
  {
   "cell_type": "code",
   "execution_count": 20,
   "outputs": [
    {
     "name": "stdout",
     "output_type": "stream",
     "text": [
      "50000\n",
      "<class 'numpy.ndarray'>\n",
      "(32, 32, 3)\n"
     ]
    }
   ],
   "source": [
    "# Checking if conversion was done correctly\n",
    "print(len(data)) # Should be 50,000\n",
    "print(type(data[0])) # Should be numpy.ndarray\n",
    "print(data[0].shape) # Should be 32x32 pixels and RGB (3 color channels) *All images must be the same shape to pass through the neural network*"
   ],
   "metadata": {
    "collapsed": false,
    "ExecuteTime": {
     "end_time": "2023-12-27T21:26:34.565902Z",
     "start_time": "2023-12-27T21:26:34.556674Z"
    }
   },
   "id": "a679e7b61cf02e23"
  },
  {
   "cell_type": "code",
   "execution_count": 21,
   "outputs": [],
   "source": [
    "# Convert images list and labels list to numpy arrays\n",
    "X = np.array(data)\n",
    "Y = np.array(labels)"
   ],
   "metadata": {
    "collapsed": false,
    "ExecuteTime": {
     "end_time": "2023-12-27T21:26:34.734366Z",
     "start_time": "2023-12-27T21:26:34.561586Z"
    }
   },
   "id": "8cf6caddc7bcd0d"
  },
  {
   "cell_type": "markdown",
   "source": [
    "*Train Test Split*"
   ],
   "metadata": {
    "collapsed": false
   },
   "id": "9dd20dc14715eb1"
  },
  {
   "cell_type": "code",
   "execution_count": 22,
   "outputs": [],
   "source": [
    "X_train, X_test, Y_train, Y_test = train_test_split(X, Y, test_size=0.2, random_state=2) # Using 20% of images as test data, 80% as training"
   ],
   "metadata": {
    "collapsed": false,
    "ExecuteTime": {
     "end_time": "2023-12-27T21:26:34.827666Z",
     "start_time": "2023-12-27T21:26:34.737705Z"
    }
   },
   "id": "92c687d3e935fb7c"
  },
  {
   "cell_type": "code",
   "execution_count": 23,
   "outputs": [],
   "source": [
    "# Scaling the data \n",
    "X_train_scaled = X_train/255 \n",
    "X_test_scaled = X_test/255"
   ],
   "metadata": {
    "collapsed": false,
    "ExecuteTime": {
     "end_time": "2023-12-27T21:26:35.541158Z",
     "start_time": "2023-12-27T21:26:34.825855Z"
    }
   },
   "id": "c8dce9c263511f9f"
  },
  {
   "cell_type": "markdown",
   "source": [
    "Building the neural network"
   ],
   "metadata": {
    "collapsed": false
   },
   "id": "773f26fda0c48cf8"
  },
  {
   "cell_type": "code",
   "execution_count": 24,
   "outputs": [
    {
     "name": "stderr",
     "output_type": "stream",
     "text": [
      "2023-12-27 14:26:35.584802: I tensorflow/core/platform/cpu_feature_guard.cc:193] This TensorFlow binary is optimized with oneAPI Deep Neural Network Library (oneDNN) to use the following CPU instructions in performance-critical operations:  SSE4.1 SSE4.2\n",
      "To enable them in other operations, rebuild TensorFlow with the appropriate compiler flags.\n"
     ]
    }
   ],
   "source": [
    "import tensorflow as tf\n",
    "from tensorflow import keras"
   ],
   "metadata": {
    "collapsed": false,
    "ExecuteTime": {
     "end_time": "2023-12-27T21:26:39.739003Z",
     "start_time": "2023-12-27T21:26:35.541697Z"
    }
   },
   "id": "2303dc48f0af90d2"
  },
  {
   "cell_type": "code",
   "execution_count": 25,
   "outputs": [
    {
     "name": "stderr",
     "output_type": "stream",
     "text": [
      "2023-12-27 14:26:39.753232: I tensorflow/core/platform/cpu_feature_guard.cc:193] This TensorFlow binary is optimized with oneAPI Deep Neural Network Library (oneDNN) to use the following CPU instructions in performance-critical operations:  SSE4.1 SSE4.2\n",
      "To enable them in other operations, rebuild TensorFlow with the appropriate compiler flags.\n"
     ]
    }
   ],
   "source": [
    "n_of_classes = 10\n",
    "\n",
    "# Setting up the layers of the neural network\n",
    "model = keras.Sequential([\n",
    "    keras.layers.Flatten(input_shape=(32,32,3)), # 32x32px, RGB\n",
    "    keras.layers.Dense(64, activation='relu'), # 64 neurons to efficiently maximize RAM usage, Rectified linear units\n",
    "    keras.layers.Dense(n_of_classes, activation='softmax') # Since nOfClasses > 2 we use 'softmax' not 'sigmoid'\n",
    "])"
   ],
   "metadata": {
    "collapsed": false,
    "ExecuteTime": {
     "end_time": "2023-12-27T21:26:39.870711Z",
     "start_time": "2023-12-27T21:26:39.740643Z"
    }
   },
   "id": "34698385bf818ee3"
  },
  {
   "cell_type": "code",
   "execution_count": 26,
   "outputs": [],
   "source": [
    "# Compiling the neural network\n",
    "model.compile(optimizer='adam', \n",
    "              loss='sparse_categorical_crossentropy', \n",
    "              metrics=['acc'])"
   ],
   "metadata": {
    "collapsed": false,
    "ExecuteTime": {
     "end_time": "2023-12-27T21:26:40.055533Z",
     "start_time": "2023-12-27T21:26:39.999434Z"
    }
   },
   "id": "f6184c58718e3c2"
  },
  {
   "cell_type": "code",
   "execution_count": 27,
   "outputs": [
    {
     "name": "stdout",
     "output_type": "stream",
     "text": [
      "Epoch 1/10\n",
      "1125/1125 [==============================] - 4s 4ms/step - loss: 1.9489 - acc: 0.3008 - val_loss: 1.8396 - val_acc: 0.3352\n",
      "Epoch 2/10\n",
      "1125/1125 [==============================] - 2s 2ms/step - loss: 1.8309 - acc: 0.3468 - val_loss: 1.7938 - val_acc: 0.3517\n",
      "Epoch 3/10\n",
      "1125/1125 [==============================] - 2s 1ms/step - loss: 1.7847 - acc: 0.3638 - val_loss: 1.7864 - val_acc: 0.3582\n",
      "Epoch 4/10\n",
      "1125/1125 [==============================] - 2s 2ms/step - loss: 1.7456 - acc: 0.3771 - val_loss: 1.7265 - val_acc: 0.3762\n",
      "Epoch 5/10\n",
      "1125/1125 [==============================] - 2s 2ms/step - loss: 1.7303 - acc: 0.3832 - val_loss: 1.7346 - val_acc: 0.3742\n",
      "Epoch 6/10\n",
      "1125/1125 [==============================] - 2s 1ms/step - loss: 1.7085 - acc: 0.3899 - val_loss: 1.7099 - val_acc: 0.3895\n",
      "Epoch 7/10\n",
      "1125/1125 [==============================] - 2s 2ms/step - loss: 1.6891 - acc: 0.3930 - val_loss: 1.6670 - val_acc: 0.4038\n",
      "Epoch 8/10\n",
      "1125/1125 [==============================] - 2s 1ms/step - loss: 1.6772 - acc: 0.3974 - val_loss: 1.6904 - val_acc: 0.3918\n",
      "Epoch 9/10\n",
      "1125/1125 [==============================] - 2s 1ms/step - loss: 1.6618 - acc: 0.4032 - val_loss: 1.6804 - val_acc: 0.3988\n",
      "Epoch 10/10\n",
      "1125/1125 [==============================] - 2s 1ms/step - loss: 1.6565 - acc: 0.4054 - val_loss: 1.7021 - val_acc: 0.3873\n"
     ]
    },
    {
     "data": {
      "text/plain": "<keras.callbacks.History at 0x7fb155636640>"
     },
     "execution_count": 27,
     "metadata": {},
     "output_type": "execute_result"
    }
   ],
   "source": [
    "# Training the neural network\n",
    "model.fit(X_train_scaled, Y_train, validation_split=0.1, epochs=10) # Model will try to find the relationship between labels (Y_train) and images (X_train_scaled), Model will go through data 10 times"
   ],
   "metadata": {
    "collapsed": false,
    "ExecuteTime": {
     "end_time": "2023-12-27T21:27:01.097436Z",
     "start_time": "2023-12-27T21:26:39.999974Z"
    }
   },
   "id": "f3a6b256eeafbd9c"
  },
  {
   "cell_type": "markdown",
   "source": [
    "Was able to achieve accuracy of ~= 40% (not ideal). Now, moving on to transfer learning technique using ResNet50"
   ],
   "metadata": {
    "collapsed": false
   },
   "id": "71cba259509d2cfb"
  },
  {
   "cell_type": "code",
   "execution_count": 28,
   "outputs": [],
   "source": [
    "from tensorflow.keras import Sequential, models, layers\n",
    "from tensorflow.keras.layers import Dense, Dropout, Flatten\n",
    "from tensorflow.keras.layers import BatchNormalization\n",
    "from tensorflow.keras.models import load_model\n",
    "from tensorflow.keras.models import Model\n",
    "from tensorflow.keras.applications.resnet50 import ResNet50\n",
    "from tensorflow.keras import optimizers"
   ],
   "metadata": {
    "collapsed": false,
    "ExecuteTime": {
     "end_time": "2023-12-27T21:27:01.175545Z",
     "start_time": "2023-12-27T21:27:01.096240Z"
    }
   },
   "id": "96a30866ca123a26"
  },
  {
   "cell_type": "code",
   "execution_count": 29,
   "outputs": [],
   "source": [
    "convolutional_base = ResNet50(weights='imagenet', include_top=False, input_shape=(256,256,3)) # ResNet50 needs images in size 256x256 px"
   ],
   "metadata": {
    "collapsed": false,
    "ExecuteTime": {
     "end_time": "2023-12-27T21:27:02.558113Z",
     "start_time": "2023-12-27T21:27:01.149591Z"
    }
   },
   "id": "f603d6f3f1376415"
  },
  {
   "cell_type": "code",
   "execution_count": 30,
   "outputs": [],
   "source": [
    "model = models.Sequential()\n",
    "model.add(layers.UpSampling2D(size=(2,2))) # Converting from 32x32 px to 64x64 px\n",
    "model.add(layers.UpSampling2D(size=(2,2))) # Converting from 64x64 px to 128x128 px\n",
    "model.add(layers.UpSampling2D(size=(2,2))) # Converting from 128x128 px to 256x256 px -- We now have a compatible image size for use with ResNet50 \n",
    "model.add(convolutional_base)\n",
    "model.add(layers.Flatten()) # Convert matrix to vector so all values are in the form of a single column\n",
    "model.add(layers.BatchNormalization()) # Even though we already scaled data we still do this so performance increases\n",
    "model.add(layers.Dense(128, activation='relu'))\n",
    "model.add(layers.Dropout(0.5)) # Turn off a few neurons so model does not over-fit\n",
    "model.add(layers.BatchNormalization())\n",
    "model.add(layers.Dense(64, activation='relu'))\n",
    "model.add(layers.Dropout(0.5))\n",
    "model.add(layers.BatchNormalization())\n",
    "model.add(layers.Dense(n_of_classes, activation='softmax')) # Output layer"
   ],
   "metadata": {
    "collapsed": false,
    "ExecuteTime": {
     "end_time": "2023-12-27T21:27:02.575514Z",
     "start_time": "2023-12-27T21:27:02.558031Z"
    }
   },
   "id": "ff2f1c8f5344cd0a"
  },
  {
   "cell_type": "code",
   "execution_count": 31,
   "outputs": [],
   "source": [
    "# model.compile(optimizer=optimizers.RMSprop(learning_rate=2e-5), loss='sparse_categorical_crossentropy', metrics=['acc'])"
   ],
   "metadata": {
    "collapsed": false,
    "ExecuteTime": {
     "end_time": "2023-12-27T21:27:02.579466Z",
     "start_time": "2023-12-27T21:27:02.575617Z"
    }
   },
   "id": "4f5db60db0909072"
  },
  {
   "cell_type": "code",
   "execution_count": 32,
   "outputs": [],
   "source": [
    "# history = model.fit(X_train, Y_train, validation_split=0.1, epochs=10)"
   ],
   "metadata": {
    "collapsed": false,
    "ExecuteTime": {
     "end_time": "2023-12-27T21:27:02.585296Z",
     "start_time": "2023-12-27T21:27:02.579867Z"
    }
   },
   "id": "3fc8eb9f561c4976"
  },
  {
   "cell_type": "code",
   "execution_count": 32,
   "outputs": [],
   "source": [],
   "metadata": {
    "collapsed": false,
    "ExecuteTime": {
     "end_time": "2023-12-27T21:27:02.586042Z",
     "start_time": "2023-12-27T21:27:02.582114Z"
    }
   },
   "id": "9fb10a5f78b349fc"
  }
 ],
 "metadata": {
  "kernelspec": {
   "display_name": "Python 3",
   "language": "python",
   "name": "python3"
  },
  "language_info": {
   "codemirror_mode": {
    "name": "ipython",
    "version": 2
   },
   "file_extension": ".py",
   "mimetype": "text/x-python",
   "name": "python",
   "nbconvert_exporter": "python",
   "pygments_lexer": "ipython2",
   "version": "2.7.6"
  }
 },
 "nbformat": 4,
 "nbformat_minor": 5
}
