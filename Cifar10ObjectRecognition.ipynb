{
 "cells": [
  {
   "cell_type": "code",
   "execution_count": 1,
   "id": "initial_id",
   "metadata": {
    "collapsed": true,
    "ExecuteTime": {
     "end_time": "2023-12-23T23:53:59.088127Z",
     "start_time": "2023-12-23T23:53:55.647280Z"
    }
   },
   "outputs": [
    {
     "name": "stdout",
     "output_type": "stream",
     "text": [
      "Collecting kaggle\r\n",
      "  Downloading kaggle-1.5.16.tar.gz (83 kB)\r\n",
      "\u001B[2K     \u001B[90m━━━━━━━━━━━━━━━━━━━━━━━━━━━━━━━━━━━━━━━\u001B[0m \u001B[32m83.6/83.6 kB\u001B[0m \u001B[31m960.1 kB/s\u001B[0m eta \u001B[36m0:00:00\u001B[0m0:01\u001B[0m00:01\u001B[0m\r\n",
      "\u001B[?25h  Preparing metadata (setup.py) ... \u001B[?25ldone\r\n",
      "\u001B[?25hRequirement already satisfied: six>=1.10 in /Users/ammaar/opt/anaconda3/envs/AmmaarsFirstDLProjectObjectRecognition/lib/python3.8/site-packages (from kaggle) (1.16.0)\r\n",
      "Requirement already satisfied: certifi in /Users/ammaar/opt/anaconda3/envs/AmmaarsFirstDLProjectObjectRecognition/lib/python3.8/site-packages (from kaggle) (2023.11.17)\r\n",
      "Requirement already satisfied: python-dateutil in /Users/ammaar/opt/anaconda3/envs/AmmaarsFirstDLProjectObjectRecognition/lib/python3.8/site-packages (from kaggle) (2.8.2)\r\n",
      "Requirement already satisfied: requests in /Users/ammaar/opt/anaconda3/envs/AmmaarsFirstDLProjectObjectRecognition/lib/python3.8/site-packages (from kaggle) (2.31.0)\r\n",
      "Collecting tqdm (from kaggle)\r\n",
      "  Downloading tqdm-4.66.1-py3-none-any.whl.metadata (57 kB)\r\n",
      "\u001B[2K     \u001B[90m━━━━━━━━━━━━━━━━━━━━━━━━━━━━━━━━━━━━━━━━\u001B[0m \u001B[32m57.6/57.6 kB\u001B[0m \u001B[31m3.0 MB/s\u001B[0m eta \u001B[36m0:00:00\u001B[0m\r\n",
      "\u001B[?25hCollecting python-slugify (from kaggle)\r\n",
      "  Downloading python_slugify-8.0.1-py2.py3-none-any.whl (9.7 kB)\r\n",
      "Requirement already satisfied: urllib3 in /Users/ammaar/opt/anaconda3/envs/AmmaarsFirstDLProjectObjectRecognition/lib/python3.8/site-packages (from kaggle) (1.26.18)\r\n",
      "Requirement already satisfied: bleach in /Users/ammaar/opt/anaconda3/envs/AmmaarsFirstDLProjectObjectRecognition/lib/python3.8/site-packages (from kaggle) (4.1.0)\r\n",
      "Requirement already satisfied: packaging in /Users/ammaar/opt/anaconda3/envs/AmmaarsFirstDLProjectObjectRecognition/lib/python3.8/site-packages (from bleach->kaggle) (23.1)\r\n",
      "Requirement already satisfied: webencodings in /Users/ammaar/opt/anaconda3/envs/AmmaarsFirstDLProjectObjectRecognition/lib/python3.8/site-packages (from bleach->kaggle) (0.5.1)\r\n",
      "Collecting text-unidecode>=1.3 (from python-slugify->kaggle)\r\n",
      "  Downloading text_unidecode-1.3-py2.py3-none-any.whl (78 kB)\r\n",
      "\u001B[2K     \u001B[90m━━━━━━━━━━━━━━━━━━━━━━━━━━━━━━━━━━━━━━━━\u001B[0m \u001B[32m78.2/78.2 kB\u001B[0m \u001B[31m3.9 MB/s\u001B[0m eta \u001B[36m0:00:00\u001B[0m\r\n",
      "\u001B[?25hRequirement already satisfied: charset-normalizer<4,>=2 in /Users/ammaar/opt/anaconda3/envs/AmmaarsFirstDLProjectObjectRecognition/lib/python3.8/site-packages (from requests->kaggle) (2.0.4)\r\n",
      "Requirement already satisfied: idna<4,>=2.5 in /Users/ammaar/opt/anaconda3/envs/AmmaarsFirstDLProjectObjectRecognition/lib/python3.8/site-packages (from requests->kaggle) (3.4)\r\n",
      "Downloading tqdm-4.66.1-py3-none-any.whl (78 kB)\r\n",
      "\u001B[2K   \u001B[90m━━━━━━━━━━━━━━━━━━━━━━━━━━━━━━━━━━━━━━━━\u001B[0m \u001B[32m78.3/78.3 kB\u001B[0m \u001B[31m4.6 MB/s\u001B[0m eta \u001B[36m0:00:00\u001B[0m\r\n",
      "\u001B[?25hBuilding wheels for collected packages: kaggle\r\n",
      "  Building wheel for kaggle (setup.py) ... \u001B[?25ldone\r\n",
      "\u001B[?25h  Created wheel for kaggle: filename=kaggle-1.5.16-py3-none-any.whl size=110683 sha256=03fece51d1a528b5d3d6c2089f3d64b88e5fb3e9c9fdc400a52ec5f9e5c8efe5\r\n",
      "  Stored in directory: /Users/ammaar/Library/Caches/pip/wheels/5a/ab/50/e224f599a07faf6d398a8600796012da271b7e5e7f2a3ab2b8\r\n",
      "Successfully built kaggle\r\n",
      "Installing collected packages: text-unidecode, tqdm, python-slugify, kaggle\r\n",
      "Successfully installed kaggle-1.5.16 python-slugify-8.0.1 text-unidecode-1.3 tqdm-4.66.1\r\n"
     ]
    }
   ],
   "source": [
    "!pip install kaggle"
   ]
  },
  {
   "cell_type": "code",
   "execution_count": 2,
   "outputs": [],
   "source": [
    "# Configuring the path of Kaggle.json file\n",
    "!mkdir -p ~/.kaggle\n",
    "!cp kaggle.json ~/.kaggle/\n",
    "!chmod 600 ~/.kaggle/kaggle.json"
   ],
   "metadata": {
    "collapsed": false,
    "ExecuteTime": {
     "end_time": "2023-12-23T23:55:03.973585Z",
     "start_time": "2023-12-23T23:55:02.900597Z"
    }
   },
   "id": "1f20ab66b2bbde9c"
  },
  {
   "cell_type": "code",
   "execution_count": 4,
   "outputs": [
    {
     "name": "stdout",
     "output_type": "stream",
     "text": [
      "cifar-10.zip: Skipping, found more recently modified local copy (use --force to force download)\r\n"
     ]
    }
   ],
   "source": [
    "# CIFAR-10 Dataset api\n",
    "!kaggle competitions download -c cifar-10"
   ],
   "metadata": {
    "collapsed": false,
    "ExecuteTime": {
     "end_time": "2023-12-23T23:57:15.886605Z",
     "start_time": "2023-12-23T23:57:13.668442Z"
    }
   },
   "id": "2672a9b0411e14a8"
  },
  {
   "cell_type": "code",
   "execution_count": 6,
   "outputs": [
    {
     "name": "stdout",
     "output_type": "stream",
     "text": [
      "Extraction complete\n"
     ]
    }
   ],
   "source": [
    "# Extracting from the zip file\n",
    "from zipfile import ZipFile\n",
    "dataset = 'cifar-10.zip'\n",
    "\n",
    "with ZipFile(dataset, 'r') as zip:\n",
    "    zip.extractall()\n",
    "    print('Extraction complete')"
   ],
   "metadata": {
    "collapsed": false,
    "ExecuteTime": {
     "end_time": "2023-12-24T00:05:24.071743Z",
     "start_time": "2023-12-24T00:05:22.943715Z"
    }
   },
   "id": "32c85bc0af68989c"
  },
  {
   "cell_type": "code",
   "execution_count": 7,
   "outputs": [
    {
     "name": "stdout",
     "output_type": "stream",
     "text": [
      "Cifar10ObjectRecognition.ipynb test.7z\r\n",
      "cifar-10.zip                   train.7z\r\n",
      "kaggle.json                    trainLabels.csv\r\n",
      "sampleSubmission.csv\r\n"
     ]
    }
   ],
   "source": [
    "!ls"
   ],
   "metadata": {
    "collapsed": false,
    "ExecuteTime": {
     "end_time": "2023-12-24T00:05:45.629581Z",
     "start_time": "2023-12-24T00:05:44.825457Z"
    }
   },
   "id": "60a2aa2cd75ab9ac"
  },
  {
   "cell_type": "markdown",
   "source": [
    "We want the images in 'train.7z', we extract using py7zr"
   ],
   "metadata": {
    "collapsed": false
   },
   "id": "102555ca459bfdf9"
  },
  {
   "cell_type": "code",
   "execution_count": 8,
   "outputs": [
    {
     "name": "stdout",
     "output_type": "stream",
     "text": [
      "Collecting py7zr\r\n",
      "  Downloading py7zr-0.20.8-py3-none-any.whl.metadata (16 kB)\r\n",
      "Collecting texttable (from py7zr)\r\n",
      "  Downloading texttable-1.7.0-py2.py3-none-any.whl.metadata (9.8 kB)\r\n",
      "Collecting pycryptodomex>=3.16.0 (from py7zr)\r\n",
      "  Downloading pycryptodomex-3.19.0-cp35-abi3-macosx_10_9_x86_64.whl.metadata (3.4 kB)\r\n",
      "Collecting pyzstd>=0.15.9 (from py7zr)\r\n",
      "  Downloading pyzstd-0.15.9-cp38-cp38-macosx_10_9_x86_64.whl.metadata (7.5 kB)\r\n",
      "Collecting pyppmd<1.2.0,>=1.1.0 (from py7zr)\r\n",
      "  Downloading pyppmd-1.1.0-cp38-cp38-macosx_10_9_x86_64.whl.metadata (5.7 kB)\r\n",
      "Collecting pybcj<1.1.0,>=1.0.0 (from py7zr)\r\n",
      "  Downloading pybcj-1.0.2-cp38-cp38-macosx_10_9_x86_64.whl.metadata (4.0 kB)\r\n",
      "Collecting multivolumefile>=0.2.3 (from py7zr)\r\n",
      "  Downloading multivolumefile-0.2.3-py3-none-any.whl (17 kB)\r\n",
      "Collecting inflate64<1.1.0,>=1.0.0 (from py7zr)\r\n",
      "  Downloading inflate64-1.0.0-cp38-cp38-macosx_10_9_x86_64.whl.metadata (4.0 kB)\r\n",
      "Collecting brotli>=1.1.0 (from py7zr)\r\n",
      "  Downloading Brotli-1.1.0-cp38-cp38-macosx_10_9_x86_64.whl.metadata (5.5 kB)\r\n",
      "Requirement already satisfied: psutil in /Users/ammaar/opt/anaconda3/envs/AmmaarsFirstDLProjectObjectRecognition/lib/python3.8/site-packages (from py7zr) (5.9.0)\r\n",
      "Downloading py7zr-0.20.8-py3-none-any.whl (67 kB)\r\n",
      "\u001B[2K   \u001B[90m━━━━━━━━━━━━━━━━━━━━━━━━━━━━━━━━━━━━━━━━\u001B[0m \u001B[32m67.0/67.0 kB\u001B[0m \u001B[31m1.0 MB/s\u001B[0m eta \u001B[36m0:00:00\u001B[0ma \u001B[36m0:00:01\u001B[0m\r\n",
      "\u001B[?25hDownloading Brotli-1.1.0-cp38-cp38-macosx_10_9_x86_64.whl (446 kB)\r\n",
      "\u001B[2K   \u001B[90m━━━━━━━━━━━━━━━━━━━━━━━━━━━━━━━━━━━━━━━━\u001B[0m \u001B[32m446.2/446.2 kB\u001B[0m \u001B[31m3.5 MB/s\u001B[0m eta \u001B[36m0:00:00\u001B[0ma \u001B[36m0:00:01\u001B[0m\r\n",
      "\u001B[?25hDownloading inflate64-1.0.0-cp38-cp38-macosx_10_9_x86_64.whl (36 kB)\r\n",
      "Downloading pybcj-1.0.2-cp38-cp38-macosx_10_9_x86_64.whl (23 kB)\r\n",
      "Downloading pycryptodomex-3.19.0-cp35-abi3-macosx_10_9_x86_64.whl (1.6 MB)\r\n",
      "\u001B[2K   \u001B[90m━━━━━━━━━━━━━━━━━━━━━━━━━━━━━━━━━━━━━━━━\u001B[0m \u001B[32m1.6/1.6 MB\u001B[0m \u001B[31m13.0 MB/s\u001B[0m eta \u001B[36m0:00:00\u001B[0m00:01\u001B[0m00:01\u001B[0m\r\n",
      "\u001B[?25hDownloading pyppmd-1.1.0-cp38-cp38-macosx_10_9_x86_64.whl (47 kB)\r\n",
      "\u001B[2K   \u001B[90m━━━━━━━━━━━━━━━━━━━━━━━━━━━━━━━━━━━━━━━━\u001B[0m \u001B[32m47.4/47.4 kB\u001B[0m \u001B[31m4.8 MB/s\u001B[0m eta \u001B[36m0:00:00\u001B[0m\r\n",
      "\u001B[?25hDownloading pyzstd-0.15.9-cp38-cp38-macosx_10_9_x86_64.whl (447 kB)\r\n",
      "\u001B[2K   \u001B[90m━━━━━━━━━━━━━━━━━━━━━━━━━━━━━━━━━━━━━━━━\u001B[0m \u001B[32m447.6/447.6 kB\u001B[0m \u001B[31m30.1 MB/s\u001B[0m eta \u001B[36m0:00:00\u001B[0m\r\n",
      "\u001B[?25hDownloading texttable-1.7.0-py2.py3-none-any.whl (10 kB)\r\n",
      "Installing collected packages: texttable, brotli, pyzstd, pyppmd, pycryptodomex, pybcj, multivolumefile, inflate64, py7zr\r\n",
      "  Attempting uninstall: brotli\r\n",
      "    Found existing installation: Brotli 1.0.9\r\n",
      "    Uninstalling Brotli-1.0.9:\r\n",
      "      Successfully uninstalled Brotli-1.0.9\r\n",
      "Successfully installed brotli-1.1.0 inflate64-1.0.0 multivolumefile-0.2.3 py7zr-0.20.8 pybcj-1.0.2 pycryptodomex-3.19.0 pyppmd-1.1.0 pyzstd-0.15.9 texttable-1.7.0\r\n"
     ]
    }
   ],
   "source": [
    "!pip install py7zr"
   ],
   "metadata": {
    "collapsed": false,
    "ExecuteTime": {
     "end_time": "2023-12-24T00:07:09.765543Z",
     "start_time": "2023-12-24T00:07:04.303127Z"
    }
   },
   "id": "448d61d3d3dfd542"
  },
  {
   "cell_type": "code",
   "execution_count": 9,
   "outputs": [],
   "source": [
    "import py7zr\n",
    "archive = py7zr.SevenZipFile('train.7z', mode='r')\n",
    "archive.extractall()\n",
    "archive.close()"
   ],
   "metadata": {
    "collapsed": false,
    "ExecuteTime": {
     "end_time": "2023-12-24T00:08:26.133788Z",
     "start_time": "2023-12-24T00:07:46.164473Z"
    }
   },
   "id": "7377f91389e47874"
  },
  {
   "cell_type": "code",
   "execution_count": 10,
   "outputs": [
    {
     "name": "stdout",
     "output_type": "stream",
     "text": [
      "Cifar10ObjectRecognition.ipynb test.7z\r\n",
      "cifar-10.zip                   \u001B[34mtrain\u001B[m\u001B[m\r\n",
      "kaggle.json                    train.7z\r\n",
      "sampleSubmission.csv           trainLabels.csv\r\n"
     ]
    }
   ],
   "source": [
    "!ls"
   ],
   "metadata": {
    "collapsed": false,
    "ExecuteTime": {
     "end_time": "2023-12-24T00:08:44.762860Z",
     "start_time": "2023-12-24T00:08:44.468386Z"
    }
   },
   "id": "633c778c21e134b1"
  },
  {
   "cell_type": "markdown",
   "source": [
    "Now that the images are extracted, we can build a basic neural network"
   ],
   "metadata": {
    "collapsed": false
   },
   "id": "91ff82d79f9ace11"
  },
  {
   "cell_type": "code",
   "execution_count": 12,
   "outputs": [],
   "source": [
    "# Importing the dependencies\n",
    "import os\n",
    "import numpy as np\n",
    "import pandas as pd\n",
    "from PIL import Image\n",
    "import matplotlib.pyplot as plt\n",
    "import matplotlib.image as mpimg\n",
    "from sklearn.model_selection import train_test_split"
   ],
   "metadata": {
    "collapsed": false,
    "ExecuteTime": {
     "end_time": "2023-12-24T00:11:36.248952Z",
     "start_time": "2023-12-24T00:11:23.747746Z"
    }
   },
   "id": "9d97b0bd040200ea"
  },
  {
   "cell_type": "code",
   "execution_count": null,
   "outputs": [],
   "source": [],
   "metadata": {
    "collapsed": false
   },
   "id": "6edbf46d0348a4ef"
  }
 ],
 "metadata": {
  "kernelspec": {
   "display_name": "Python 3",
   "language": "python",
   "name": "python3"
  },
  "language_info": {
   "codemirror_mode": {
    "name": "ipython",
    "version": 2
   },
   "file_extension": ".py",
   "mimetype": "text/x-python",
   "name": "python",
   "nbconvert_exporter": "python",
   "pygments_lexer": "ipython2",
   "version": "2.7.6"
  }
 },
 "nbformat": 4,
 "nbformat_minor": 5
}
